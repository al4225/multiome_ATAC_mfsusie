{
 "cells": [
  {
   "cell_type": "markdown",
   "metadata": {},
   "source": [
    "## Processing ATAC-seq Data into Base-Level Data\n",
    "### Goal  \n",
    "- The `goal` of this procedure is to transform raw single-nucleus ATAC-seq (snATAC-seq) data from `multiome` libraries into `base-level` chromatin accessibility data for downstream analysis. \n",
    "- The purpose is to work with finer resolution data (at the base level), rather than relying on peak calling, which groups accessible chromatin regions. \n",
    "- Base-level data offers a more `detailed view` of chromatin accessibility across individual bases, which can be critical for certain models like fine-mapping or multiomic studies, such as fitting the `mfsusie`."
   ]
  },
  {
   "cell_type": "markdown",
   "metadata": {},
   "source": [
    "### Data\n",
    "- The `ROSMAP` single-nucleus ATAC-seq (`snATAC-seq`) is from the `10x Genomics` platform, specifically from the `multiome` libraries. \n",
    "- **Samples**: It containes` > 200 samples`.\n",
    "- **Path**: `/mnt/mfs/ctcn/datasets/rosmap/snmultiome/dlpfc/batch1`    \n",
    "    - fragment files: `/mnt/mfs/ctcn/datasets/rosmap/snmultiome/dlpfc/batch1/cellRanger/lirary_id/outs/atac_fragments.tsv.gz`   \n",
    "    - sample data: `/mnt/mfs/ctcn/datasets/rosmap/snmultiome/dlpfc/batch1/demuxlet/scripts/SampleSheet.csv`   \n",
    "    - library QCed Seurat object: `/mnt/mfs/ctcn/datasets/rosmap/snmultiome/dlpfc/batch1/atac_qc/analysis/step1_chromatin_assay_QC/snMultiome_chromatin_assay_libraryidtoid.rds`    \n",
    "    - cell type annotated Seurat object: `/mnt/mfs/ctcn/datasets/rosmap/snmultiome/dlpfc/batch1/atac_qc/analysis/step3_postQC/'cell_type'/cell_type.rds`   "
   ]
  },
  {
   "cell_type": "markdown",
   "metadata": {},
   "source": [
    "### Overview of the Process:\n",
    "`Procedure`: fragnent QC(library) -> cell type annotation(library) ->  split by cell type and sample(6 cell type *240 samples) ->  Calculate coverage(6*240 bedgraph files) -> Merge all sample bedgraph into one for the sample cell type(6 bedgraph files)  ->  QC and get base by sample count matrix of each cell type \n",
    "\n",
    "`Input Data`: The starting data consists of `fragment` files generated from snATAC-seq. Each fragment file contains records of accessible chromatin fragments with the following information:    \n",
    "- Chromosome\n",
    "- Start and end positions of the fragment\n",
    "- Barcode identifying the cell/nucleus\n",
    "- Read count information\n",
    "\n",
    "Data Structure:   \n",
    "```bash\n",
    "## Fragment file format:\n",
    "chr start end barcode reads\n",
    "chr1 10073 10210 AGTAGGATCCCGTTAC-1 1\n",
    "chr1 10073 10309 TCGCGCACAGCAAATA-1 1\n",
    "chr1 10079 10261 ACATCAATCCGCCAAA-1 2\n",
    "chr1 10084 10204 TCATTGTTCCGCCTAT-1 1\n",
    "chr1 10085 10303 ATTGGCTAGCGCCTAA-1 1\n",
    "chr1 10085 10340 GAACTTATCCCTGATC-1 1\n",
    "```\n",
    "This format shows chromatin fragments for specific cells, identified by barcodes. The coordinates of the start and end positions represent where the chromatin is accessible.\n",
    "\n",
    "`Purpose of Coverage`:\n",
    "- Coverage is a measure of how many fragments (or reads) map to a specific base across all cells. It helps identify regions of high or low chromatin accessibility at the single-base resolution.  \n",
    "- Tools like `bedtools`  are typically used to calculate coverage from fragment files.    \n",
    "For example, calculating coverage will result in:   \n",
    "\n",
    "```bash\n",
    "| Base Position    | Sample1 |\n",
    "|------------------|---------|\n",
    "| chr1:100000      | 1       |\n",
    "| chr1:100001      | 0       |\n",
    "| chr1:100002      | 3       |\n",
    "```\n",
    "This output shows how many fragments overlap each base, giving a base-by-base accessibility profile."
   ]
  },
  {
   "cell_type": "markdown",
   "metadata": {},
   "source": [
    "### Procedure for Processing ATAC-seq Data to Base-Level Data\n",
    "\n",
    "61 libraries(~ 4 samples/library) are processed in this procedure. The process involves several steps to transform raw fragment data into base-level chromatin accessibility data for each cell type. The steps are as follows:\n",
    "\n",
    "**1) QC Fragment Files**:   \n",
    "\n",
    "- Start with raw fragment files, which contain chromatin fragments with information such as chromosome positions, start and end points, and associated barcodes.   \n",
    "- Apply quality control (QC) by matching filtered QCed barcodes (e.g., ncell, nfeature) from Seurat object metadata with the fragments. This ensures only high-quality cells are retained for further analysis.  \n",
    "\n",
    "**2) Subset by Cell Type**:\n",
    "\n",
    "- Use an annotation file (another Seurat object) to map barcodes to specific cell types.   \n",
    "- Subset the fragments per cell type, ensuring each fragment is correctly assigned to its corresponding cell type based on the barcodes.  \n",
    "\n",
    "**3) Subset by Sample**:   \n",
    "\n",
    "- Further subset the cell-type-specific fragments by sample ID.   \n",
    "- Each sample within the cell type is separated out to individual files for more granular analysis. \n",
    "\n",
    "**4) Run Coverage on Per-Sample Files**:   \n",
    "\n",
    "- For each sample-specific fragment file, calculate base-level chromatin accessibility using bedtools coverage.\n",
    "- `bedtools -bg`: for BedGraph output, which is more memory-efficient (1-2 mins/each).\n",
    "- This produces per-sample `BedGraph` files, showing the chromatin accessibility at each base position.\n",
    "\n",
    "**5) Merge BedGraph Files by Cell Type:**\n",
    "\n",
    "- Merge the BedGraph files from different samples within the same cell type using `bedtools unionbedg`.\n",
    "- This step combines data from multiple samples of the same cell type into a single base-by-sample matrix, ready for analysis.\n",
    "\n",
    "\n",
    "```"
   ]
  },
  {
   "cell_type": "markdown",
   "metadata": {
    "vscode": {
     "languageId": "r"
    }
   },
   "source": [
    "**6) Quality Control:**\n",
    "\n",
    "This pseudobulk-level matrix can undergo QC to filter out low-quality samples, ensuring reliable downstream analysis. The final matrix contains base-level chromatin accessibility for each sample within a given cell type.\n",
    "- **Sample Quality Control (QC)**: Filtered out samples with fewer than 10 cells per cell type.\n",
    "- **Phenotype Binning**: \n",
    "    - Binned phenotype data around each gene within ±25kb windows (total 50kb).\n",
    "    - Over 20,000 genes were processed using this binning approach.\n",
    "- **Batch Effect Adjustment**: \n",
    "    - Adjusted for batch effects using `ComBat_seq()` from `sva` package in R, specifically for count data.\n",
    "    - Excluded batches with only a single sample, as most batches contain 3-5 samples; some variability remains post-filtering.\n",
    "- **Hidden Factor Extraction** (using [Marchenko_PC method](https://github.com/cumc/xqtl-protocol/blob/main/code/data_preprocessing/covariate/covariate_hidden_factor.ipynb) ): \n",
    "    - Covariate Data: Processed covariates include `sex`, `age at death`, `PMI` (post-mortem interval), and `hidden factors` derived from phenotype data.\n",
    "    - Missing data in covariates was filtered based on missing rate and subsequently imputed.\n",
    "    - Covariate data sample sizes are aligned with the corresponding phenotype data sample sizes.\n",
    "\n"
   ]
  },
  {
   "cell_type": "markdown",
   "metadata": {},
   "source": [
    "### Further background and introduction on QC background\n",
    "\n",
    "### 1. Batch Effect Adjustment\n",
    "\n",
    "#### Objective\n",
    "The goal of batch effect adjustment is to remove systematic variation in count data caused by batch differences. These batch effects can arise from technical factors, such as variations in sample processing, which can confound the biological signals in the data. By adjusting for batch effects, we aim to ensure that observed differences in phenotype are more likely to reflect true biological variation rather than technical artifacts.\n",
    "\n",
    "#### Principle\n",
    "In high-throughput data, batch effects are often unavoidable due to practical limitations like processing constraints. **ComBat_seq** from the `sva` package in R is a method specifically designed to adjust for these batch effects in count data. It models the data to estimate and remove the batch effect, aiming to standardize data across batches. This approach uses empirical Bayes methods to improve estimates for smaller sample sizes, making it robust for typical biological datasets.\n",
    "\n",
    "#### Method\n",
    "**ComBat_seq** operates by:\n",
    "- Modeling the data with batch and condition as covariates, estimating the batch effect parameters.\n",
    "- Adjusting the data by removing batch-specific variability while preserving biological differences.\n",
    "\n",
    "#### Workflow Steps\n",
    "1. **Batch Definition**: Batches are defined based on the conditions under which samples were processed.\n",
    "2. **Exclude Small Batches**: Batches with only a single sample are excluded from adjustment, as **ComBat_seq** requires multiple samples per batch for accurate estimation.\n",
    "3. **Run ComBat_seq Adjustment**:\n",
    "   - Apply **ComBat_seq** on the count data, specifying the batch.\n",
    "   - Correct for systematic batch differences while preserving biological variability related to the conditions of interest.\n",
    "4. **Check for Remaining Variability**:\n",
    "   - After adjustment, examine the data for residual batch-related variability, as some minor differences may remain, especially in small sample sizes or less balanced batch designs.\n",
    "\n",
    "#### Results\n",
    "- **Batch-Adjusted Data**: A dataset in which batch-related effects are minimized, making the data more consistent across batches.\n",
    "- **Consistency for Downstream Analysis**: By removing batch effects, the batch-adjusted data provides a more reliable basis for downstream analyses (e.g., differential expression or QTL analysis), enhancing the biological interpretability of observed patterns.\n",
    "\n",
    "\n",
    "### 2. Hidden factor \n",
    " \n",
    "####  Background\n",
    "In genomics and transcriptomics research, phenotype data may be influenced by batch effects, technical biases, and other unknown factors. These factors are known as \"hidden factors\" and introduce additional variability into the data, potentially obscuring true biological signals. To improve the accuracy of analysis, it is essential to remove the effects of known covariates on phenotype data and extract hidden factors.\n",
    "\n",
    "#### Objective\n",
    "The primary goals of this analysis are to:\n",
    "- Remove the influence of known covariates from the phenotype data to obtain pure residuals.\n",
    "- Identify and extract hidden factors in the data using Principal Component Analysis (PCA) to correct potential biases in subsequent analyses.\n",
    "\n",
    "#### Inputs\n",
    "- **Phenotype file (phenoFile)**: Contains phenotype data (count data in our analysis).\n",
    "- **Covariate file (covFile)**: Contains known covariates such as sex, age at death, and PMI that may affect phenotype data.\n",
    "\n",
    "#### Workflow Steps\n",
    "The pipeline is available in [xqtl-protocal](https://github.com/cumc/xqtl-protocol/blob/main/code/data_preprocessing/covariate/covariate_hidden_factor.ipynb).\n",
    "##### Step 1: Compute Residuals\n",
    "- Match covariate and phenotype data to ensure sample consistency.\n",
    "- Use a linear model to remove the influence of covariates from the phenotype data, yielding **residuals**.\n",
    "- Residuals represent the part of phenotype data with known covariate effects removed, containing potential hidden factors and noise.\n",
    "\n",
    "##### Step 2: Hidden Factor Analysis\n",
    "- Perform PCA on the residuals from Step 1 to identify major sources of variability in the data.\n",
    "- Use the Marchenko-Pastur distribution to select principal components that represent hidden factors.\n",
    "- Retain these principal components as hidden factors and combine them with known covariates such as sex, age at death, and PMI, creating the final set of covariates for downstream analysis.\n",
    "\n"
   ]
  },
  {
   "cell_type": "code",
   "execution_count": 5,
   "metadata": {
    "vscode": {
     "languageId": "r"
    }
   },
   "outputs": [
    {
     "name": "stderr",
     "output_type": "stream",
     "text": [
      "\u001b[1m\u001b[22mJoining with `by = join_by(ProjID)`\n"
     ]
    },
    {
     "name": "stdout",
     "output_type": "stream",
     "text": [
      "   SM-CJGGO    SM-CJIZK    SM-CTDR8    SM-CJGLF    SM-CJK4X    SM-CJGNP \n",
      "    \"RA004\"     \"RA004\"     \"RA004\"     \"RA004\"     \"RA006\"     \"RA006\" \n",
      "   SM-CJIYI    SM-CTEET    SM-CJGNI    SM-CJIZH    SM-CJGM5    SM-CJIWV \n",
      "    \"RA006\"     \"RA006\"     \"RA007\"     \"RA007\"     \"RA007\"     \"RA007\" \n",
      "   SM-CJGNQ    SM-CJGI5    SM-CTDRG    SM-CJGHY    SM-CJGO3    SM-CJFO5 \n",
      "    \"RA008\"     \"RA008\"     \"RA008\"     \"RA008\"     \"RA009\"     \"RA009\" \n",
      "MAP50106992    SM-CJIXG    SM-CJGLE    SM-CJEH2    SM-CTDRE    SM-CJIYG \n",
      "    \"RA009\"     \"RA009\"     \"RA010\"     \"RA010\"     \"RA010\"     \"RA010\" \n",
      "   SM-CJIY2    SM-CJIXW    SM-CTDRD    SM-CJIXQ ROS20376029    SM-CJEFR \n",
      "    \"RA011\"     \"RA011\"     \"RA011\"     \"RA011\"     \"RA012\"     \"RA012\" \n",
      "   SM-CJK4V    SM-CTDRA    SM-CJK5F    SM-CJK3J    SM-CJEJ6    SM-CJEKA \n",
      "    \"RA012\"     \"RA012\"     \"RA012\"     \"RA013\"     \"RA013\"     \"RA013\" \n",
      "   SM-CJIWS ROS11430815    SM-CTDSP    SM-CTEDQ    SM-CTDSL    SM-CJGGU \n",
      "    \"RA013\"     \"RA014\"     \"RA014\"     \"RA014\"     \"RA014\"     \"RA015\" \n",
      "   SM-CTDRF    SM-CJGHH ROS20945666 ROS20946257    SM-CJK4C    SM-CJEIO \n",
      "    \"RA015\"     \"RA015\"     \"RA015\"     \"RA016\"     \"RA016\"     \"RA016\" \n",
      "ROS21001807 ROS21112011    SM-CJEG1    SM-CJGJ3    SM-CTDSU    SM-CTEE4 \n",
      "    \"RA016\"     \"RA017\"     \"RA017\"     \"RA017\"     \"RA017\"     \"RA018\" \n",
      "   SM-CJGHV    SM-CTDSV    SM-CJGHI    SM-CJIYQ    SM-CJK54    SM-CTEFO \n",
      "    \"RA018\"     \"RA018\"     \"RA018\"     \"RA019\"     \"RA019\"     \"RA019\" \n",
      "ROS11697592    SM-CJGO1    SM-CJIYU    SM-CTDTS    SM-CJGLU ROS15738428 \n",
      "    \"RA019\"     \"RA019\"     \"RA020\"     \"RA020\"     \"RA020\"     \"RA021\" \n",
      "   SM-CJEIW    SM-CJGHO    SM-CJIXL    SM-CJGIW    SM-CJGN9    SM-CTDTJ \n",
      "    \"RA021\"     \"RA021\"     \"RA021\"     \"RA022\"     \"RA022\"     \"RA022\" \n",
      "   SM-CJGLR    SM-CJGGT    SM-CTEIQ    SM-CTEG7    SM-CJGGM    SM-CJFN6 \n",
      "    \"RA022\"     \"RA023\"     \"RA023\"     \"RA023\"     \"RA023\"     \"RA024\" \n",
      "   SM-CTDSS    SM-CJGHW    SM-CJGH1    SM-CJGGN    SM-CJIX9    SM-CJIXA \n",
      "    \"RA024\"     \"RA024\"     \"RA024\"     \"RA025\"     \"RA025\"     \"RA025\" \n",
      "   SM-CJGHP    SM-CTEI7    SM-CTEEC    SM-CJJ2X    SM-CJEIV    SM-CJK3L \n",
      "    \"RA025\"     \"RA026\"     \"RA026\"     \"RA026\"     \"RA026\"     \"RA027\" \n",
      "MAP61344957    SM-CJGNG    SM-CJGIZ    SM-CJIZI    SM-CTDU1    SM-CJK53 \n",
      "    \"RA027\"     \"RA027\"     \"RA027\"     \"RA028\"     \"RA028\"     \"RA028\" \n",
      "   SM-CJGIJ    SM-CTEGM    SM-CJK4M    SM-CTEFG    SM-CJFKK    SM-CJEKZ \n",
      "    \"RA029\"     \"RA029\"     \"RA029\"     \"RA029\"     \"RA030\"     \"RA030\" \n",
      "   SM-CJGI1    SM-CJEHH    SM-CTEEM    SM-CTEFB    SM-CJEKX    SM-CJGMS \n",
      "    \"RA030\"     \"RA030\"     \"RA031\"     \"RA031\"     \"RA031\"     \"RA031\" \n",
      "   SM-CTEFV    SM-CJFKS    SM-CJFK9    SM-CJGJ1    SM-CJFK7    SM-CTDUN \n",
      "    \"RA032\"     \"RA032\"     \"RA032\"     \"RA032\"     \"RA033\"     \"RA033\" \n",
      "   SM-CJEJ4    SM-CJFMU    SM-CJFLR    SM-CJJ1X    SM-CTDV7    SM-CJFNL \n",
      "    \"RA033\"     \"RA033\"     \"RA034\"     \"RA034\"     \"RA034\"     \"RA034\" \n",
      "   SM-CJEKO    SM-CJFM5    SM-CTDUF    SM-CJEL7    SM-CJFL5    SM-CTED4 \n",
      "    \"RA035\"     \"RA035\"     \"RA035\"     \"RA035\"     \"RA036\"     \"RA036\" \n",
      "   SM-CJGGP    SM-CJFKR    SM-CJK4J    SM-CTEMK    SM-CJJ1G    SM-CJFKT \n",
      "    \"RA036\"     \"RA036\"     \"RA037\"     \"RA037\"     \"RA037\"     \"RA037\" \n",
      "   SM-CJK3X    SM-CTDUD    SM-CJGHF    SM-CJEL6    SM-CJGMV    SM-CJFNQ \n",
      "    \"RA038\"     \"RA038\"     \"RA038\"     \"RA038\"     \"RA039\"     \"RA039\" \n",
      "   SM-CJIWW    SM-CTEGG    SM-CJFLI    SM-CTDQH    SM-CJFO1    SM-CJJ2J \n",
      "    \"RA039\"     \"RA039\"     \"RA040\"     \"RA040\"     \"RA040\"     \"RA040\" \n",
      "   SM-CJFKE    SM-CTDV2    SM-CJGNT    SM-CTDUG    SM-CJEKF    SM-CTDTE \n",
      "    \"RA041\"     \"RA041\"     \"RA041\"     \"RA041\"     \"RA042\"     \"RA042\" \n",
      "   SM-CJFLS    SM-CJFLM    SM-CJEJN    SM-CJGMK    SM-CJEJH    SM-CJFM3 \n",
      "    \"RA042\"     \"RA042\"     \"RA043\"     \"RA043\"     \"RA043\"     \"RA043\" \n",
      "   SM-CJFLO    SM-CJIY3    SM-CJFK4    SM-CJEKS    SM-CJJ2U    SM-CJEI1 \n",
      "    \"RA044\"     \"RA044\"     \"RA044\"     \"RA044\"     \"RA045\"     \"RA045\" \n",
      "   SM-CTEDP    SM-CJFM8    SM-CTEFS    SM-CTEFQ    SM-CTDV3    SM-CTEFM \n",
      "    \"RA045\"     \"RA045\"     \"RA046\"     \"RA046\"     \"RA046\"     \"RA046\" \n",
      "   SM-CJFKD    SM-CTEEY    SM-CJEJS    SM-CJEKR    SM-CJGMO    SM-CTEF4 \n",
      "    \"RA047\"     \"RA047\"     \"RA047\"     \"RA047\"     \"RA048\"     \"RA048\" \n",
      "   SM-CTDSB    SM-CJIZO    SM-CJEKW    SM-CTDVC    SM-CJGMR    SM-CJK4U \n",
      "    \"RA048\"     \"RA048\"     \"RA049\"     \"RA049\"     \"RA049\"     \"RA049\" \n",
      "MAP26637867    SM-CJFLL    SM-CJGIX    SM-CJGH2    SM-CJGNO    SM-CJFOR \n",
      "    \"RA050\"     \"RA050\"     \"RA050\"     \"RA050\"     \"RA051\"     \"RA051\" \n",
      "   SM-CJFK6    SM-CTDVK    SM-CJFKM    SM-CTEM2    SM-CTDUU    SM-CJGIL \n",
      "    \"RA051\"     \"RA051\"     \"RA052\"     \"RA052\"     \"RA052\"     \"RA052\" \n",
      "   SM-CJFNI    SM-CJGM9    SM-CTDVG    SM-CJEKP    SM-CJFLC    SM-CJIXS \n",
      "    \"RA053\"     \"RA053\"     \"RA053\"     \"RA053\"     \"RA054\"     \"RA054\" \n",
      "   SM-CJGGK    SM-CJFKA    SM-CTEF2    SM-CJGNL    SM-CTEMJ    SM-CTEER \n",
      "    \"RA054\"     \"RA054\"     \"RA055\"     \"RA055\"     \"RA055\"     \"RA055\" \n",
      "   SM-CTEFT    SM-CJFL3    SM-CTDVI    SM-CJJ2N    SM-CJJ26    SM-CJGIF \n",
      "    \"RA056\"     \"RA056\"     \"RA056\"     \"RA056\"     \"RA057\"     \"RA057\" \n",
      "   SM-CJFK8    SM-CJFKF    SM-CJGGQ    SM-CJK3E    SM-CJFNV    SM-CJFP6 \n",
      "    \"RA057\"     \"RA057\"     \"RA058\"     \"RA058\"     \"RA058\"     \"RA058\" \n",
      "   SM-CJFMJ    SM-CTEIR    SM-CJGHE    SM-CJEKN    SM-CTDV4    SM-CJFLE \n",
      "    \"RA059\"     \"RA059\"     \"RA059\"     \"RA059\"     \"RA060\"     \"RA060\" \n",
      "   SM-CTDUI    SM-CTDQF    SM-CJJ1Q    SM-CJFKV    SM-CTDUE    SM-CJFL7 \n",
      "    \"RA060\"     \"RA060\"     \"RA061\"     \"RA061\"     \"RA061\"     \"RA061\" \n",
      "   SM-CJIYW    SM-CJFKH    SM-CJEKG    SM-CJFMK    SM-CJFLY    SM-CJJ2M \n",
      "    \"RA062\"     \"RA062\"     \"RA062\"     \"RA062\"     \"RA063\"     \"RA063\" \n",
      "   SM-CJIZT    SM-CJEKV    SM-CJK5P    SM-CJFKJ    SM-CTED5    SM-CTDUL \n",
      "    \"RA063\"     \"RA063\"     \"RA064\"     \"RA064\"     \"RA064\"     \"RA064\" \n",
      "   SM-CJFM7    SM-CTEMO MAP93787649    SM-CJIXB \n",
      "    \"RA065\"     \"RA065\"     \"RA065\"     \"RA065\" \n"
     ]
    }
   ],
   "source": [
    "# Batch infomation: 61 batches in total, each batch contains 3-5 samples\n",
    "library(data.table)\n",
    "library(dplyr)\n",
    "# Read batch information\n",
    "sample_file <- \"/mnt/mfs/ctcn/datasets/rosmap/snmultiome/dlpfc/batch1/experimentDesign/SampleSheet.csv\"\n",
    "sample <- fread(sample_file, colClasses = \"character\")\n",
    "wgs_qc_file <- \"/mnt/mfs/ctcn/datasets/rosmap/wgs/ampad/qualityControl/sampleSheetAfterQc.csv\"\n",
    "wgs_qc <- fread(wgs_qc_file, colClasses = \"character\")\n",
    "sample <- sample %>%\n",
    "  inner_join(wgs_qc) %>%\n",
    "  select(SequencingID, SampleID)\n",
    "\n",
    "# Extract batch information\n",
    "batches <- sample$SequencingID\n",
    "names(batches) <- sample$SampleID\n",
    "print(batches)"
   ]
  },
  {
   "cell_type": "code",
   "execution_count": 8,
   "metadata": {
    "vscode": {
     "languageId": "r"
    }
   },
   "outputs": [
    {
     "data": {
      "text/html": [
       "<style>\n",
       ".list-inline {list-style: none; margin:0; padding: 0}\n",
       ".list-inline>li {display: inline-block}\n",
       ".list-inline>li:not(:last-child)::after {content: \"\\00b7\"; padding: 0 .5ex}\n",
       "</style>\n",
       "<ol class=list-inline><li>'chr1_207429229_207479229_ENSG00000117322'</li><li>'chr1_207471146_207521146_ENSG00000203710'</li><li>'chr10_11586753_11636753_ENSG00000148429'</li><li>'chr10_80429165_80479165_ENSG00000108219'</li><li>'chr10_96246586_96296586_ENSG00000095585'</li><li>'chr11_47353546_47403546_ENSG00000066336'</li></ol>\n"
      ],
      "text/latex": [
       "\\begin{enumerate*}\n",
       "\\item 'chr1\\_207429229\\_207479229\\_ENSG00000117322'\n",
       "\\item 'chr1\\_207471146\\_207521146\\_ENSG00000203710'\n",
       "\\item 'chr10\\_11586753\\_11636753\\_ENSG00000148429'\n",
       "\\item 'chr10\\_80429165\\_80479165\\_ENSG00000108219'\n",
       "\\item 'chr10\\_96246586\\_96296586\\_ENSG00000095585'\n",
       "\\item 'chr11\\_47353546\\_47403546\\_ENSG00000066336'\n",
       "\\end{enumerate*}\n"
      ],
      "text/markdown": [
       "1. 'chr1_207429229_207479229_ENSG00000117322'\n",
       "2. 'chr1_207471146_207521146_ENSG00000203710'\n",
       "3. 'chr10_11586753_11636753_ENSG00000148429'\n",
       "4. 'chr10_80429165_80479165_ENSG00000108219'\n",
       "5. 'chr10_96246586_96296586_ENSG00000095585'\n",
       "6. 'chr11_47353546_47403546_ENSG00000066336'\n",
       "\n",
       "\n"
      ],
      "text/plain": [
       "[1] \"chr1_207429229_207479229_ENSG00000117322\"\n",
       "[2] \"chr1_207471146_207521146_ENSG00000203710\"\n",
       "[3] \"chr10_11586753_11636753_ENSG00000148429\" \n",
       "[4] \"chr10_80429165_80479165_ENSG00000108219\" \n",
       "[5] \"chr10_96246586_96296586_ENSG00000095585\" \n",
       "[6] \"chr11_47353546_47403546_ENSG00000066336\" "
      ]
     },
     "metadata": {},
     "output_type": "display_data"
    },
    {
     "name": "stdout",
     "output_type": "stream",
     "text": [
      "List of 13\n",
      " $ geno     : num [1:237, 1:888] 0 0 0 0 0 0 0 0 0 0 ...\n",
      "  ..- attr(*, \"dimnames\")=List of 2\n",
      "  .. ..$ : chr [1:237] \"MAP26637867\" \"MAP50106992\" \"MAP61344957\" \"ROS11430815\" ...\n",
      "  .. ..$ : chr [1:888] \"chr1:207429238_G_A\" \"chr1:207429252_G_A\" \"chr1:207429388_T_TAAAAA\" \"chr1:207429388_T_TAAAAAA\" ...\n",
      " $ Ast_pheno: num [1:233, 1] 47018 6499 16584 18081 27869 ...\n",
      "  ..- attr(*, \"dimnames\")=List of 2\n",
      "  .. ..$ : chr [1:233] \"MAP26637867\" \"MAP50106992\" \"MAP61344957\" \"ROS11430815\" ...\n",
      "  .. ..$ : chr \"chr1_207429229_207479229_ENSG00000117322\"\n",
      " $ Ast_cov  : num [1:233, 1:7] 0 0 0 1 1 1 1 1 0 1 ...\n",
      "  ..- attr(*, \"dimnames\")=List of 2\n",
      "  .. ..$ : chr [1:233] \"SM-CJFK8\" \"SM-CTDUU\" \"SM-CJFLR\" \"SM-CJFM3\" ...\n",
      "  .. ..$ : NULL\n",
      " $ Exc_pheno: num [1:237, 1] 266395 29766 86178 84778 106969 ...\n",
      "  ..- attr(*, \"dimnames\")=List of 2\n",
      "  .. ..$ : chr [1:237] \"MAP26637867\" \"MAP50106992\" \"MAP61344957\" \"ROS11430815\" ...\n",
      "  .. ..$ : chr \"chr1_207429229_207479229_ENSG00000117322\"\n",
      " $ Exc_cov  : num [1:237, 1:6] 0 0 0 1 1 1 1 1 0 1 ...\n",
      "  ..- attr(*, \"dimnames\")=List of 2\n",
      "  .. ..$ : chr [1:237] \"SM-CJFK8\" \"SM-CTDUU\" \"SM-CJFLR\" \"SM-CJFM3\" ...\n",
      "  .. ..$ : NULL\n",
      " $ Mic_pheno: num [1:235, 1] 89170 7878 38756 22002 31294 ...\n",
      "  ..- attr(*, \"dimnames\")=List of 2\n",
      "  .. ..$ : chr [1:235] \"MAP26637867\" \"MAP50106992\" \"MAP61344957\" \"ROS11430815\" ...\n",
      "  .. ..$ : chr \"chr1_207429229_207479229_ENSG00000117322\"\n",
      " $ Mic_cov  : num [1:235, 1:6] 0 0 0 1 1 1 1 1 0 1 ...\n",
      "  ..- attr(*, \"dimnames\")=List of 2\n",
      "  .. ..$ : chr [1:235] \"SM-CJFK8\" \"SM-CTDUU\" \"SM-CJFLR\" \"SM-CJFM3\" ...\n",
      "  .. ..$ : NULL\n",
      " $ Inh_pheno: num [1:231, 1] 28034 932 5342 6304 10465 ...\n",
      "  ..- attr(*, \"dimnames\")=List of 2\n",
      "  .. ..$ : chr [1:231] \"MAP26637867\" \"MAP50106992\" \"MAP61344957\" \"ROS11430815\" ...\n",
      "  .. ..$ : chr \"chr1_207429229_207479229_ENSG00000117322\"\n",
      " $ Inh_cov  : num [1:231, 1:7] 0 0 1 1 1 1 1 0 1 1 ...\n",
      "  ..- attr(*, \"dimnames\")=List of 2\n",
      "  .. ..$ : chr [1:231] \"SM-CTDUU\" \"SM-CJFLR\" \"SM-CJFM3\" \"SM-CTEET\" ...\n",
      "  .. ..$ : NULL\n",
      " $ Oli_pheno: num [1:231, 1] 18429 2002 9478 5773 7903 ...\n",
      "  ..- attr(*, \"dimnames\")=List of 2\n",
      "  .. ..$ : chr [1:231] \"MAP26637867\" \"MAP50106992\" \"MAP61344957\" \"ROS11430815\" ...\n",
      "  .. ..$ : chr \"chr1_207429229_207479229_ENSG00000117322\"\n",
      " $ Oli_cov  : num [1:231, 1:6] 0 0 1 1 1 1 1 0 1 1 ...\n",
      "  ..- attr(*, \"dimnames\")=List of 2\n",
      "  .. ..$ : chr [1:231] \"SM-CTDUU\" \"SM-CJFLR\" \"SM-CJFM3\" \"SM-CTEET\" ...\n",
      "  .. ..$ : NULL\n",
      " $ OPC_pheno: num [1:237, 1] 106526 12745 35921 33140 54356 ...\n",
      "  ..- attr(*, \"dimnames\")=List of 2\n",
      "  .. ..$ : chr [1:237] \"MAP26637867\" \"MAP50106992\" \"MAP61344957\" \"ROS11430815\" ...\n",
      "  .. ..$ : chr \"chr1_207429229_207479229_ENSG00000117322\"\n",
      " $ OPC_cov  : num [1:237, 1:6] 0 0 0 1 1 1 1 1 0 1 ...\n",
      "  ..- attr(*, \"dimnames\")=List of 2\n",
      "  .. ..$ : chr [1:237] \"SM-CJFK8\" \"SM-CTDUU\" \"SM-CJFLR\" \"SM-CJFM3\" ...\n",
      "  .. ..$ : NULL\n"
     ]
    }
   ],
   "source": [
    "## Final QCed binned data:\n",
    "data <- readRDS(\"/home/al4225/project/multiome/step6_pseudoBulk/4_data_format/binned_57genes_region_data_6_celltype/combined_binned_57genes_region_data_6_celltype.rds\")\n",
    "head(names(data)) # 57 genes\n",
    "\n",
    "first_element_name <- names(data)[1]\n",
    "str(data[[first_element_name]])"
   ]
  },
  {
   "cell_type": "code",
   "execution_count": 16,
   "metadata": {
    "vscode": {
     "languageId": "r"
    }
   },
   "outputs": [
    {
     "data": {
      "text/html": [
       "<style>\n",
       ".list-inline {list-style: none; margin:0; padding: 0}\n",
       ".list-inline>li {display: inline-block}\n",
       ".list-inline>li:not(:last-child)::after {content: \"\\00b7\"; padding: 0 .5ex}\n",
       "</style>\n",
       "<ol class=list-inline><li>237</li><li>888</li></ol>\n"
      ],
      "text/latex": [
       "\\begin{enumerate*}\n",
       "\\item 237\n",
       "\\item 888\n",
       "\\end{enumerate*}\n"
      ],
      "text/markdown": [
       "1. 237\n",
       "2. 888\n",
       "\n",
       "\n"
      ],
      "text/plain": [
       "[1] 237 888"
      ]
     },
     "metadata": {},
     "output_type": "display_data"
    },
    {
     "data": {
      "text/html": [
       "<table class=\"dataframe\">\n",
       "<caption>A matrix: 5 × 5 of type dbl</caption>\n",
       "<thead>\n",
       "\t<tr><th></th><th scope=col>chr1:207429238_G_A</th><th scope=col>chr1:207429252_G_A</th><th scope=col>chr1:207429388_T_TAAAAA</th><th scope=col>chr1:207429388_T_TAAAAAA</th><th scope=col>chr1:207429391_AAAAG_A</th></tr>\n",
       "</thead>\n",
       "<tbody>\n",
       "\t<tr><th scope=row>MAP26637867</th><td>0</td><td>0</td><td>0</td><td>0</td><td>0</td></tr>\n",
       "\t<tr><th scope=row>MAP50106992</th><td>0</td><td>0</td><td>0</td><td>0</td><td>0</td></tr>\n",
       "\t<tr><th scope=row>MAP61344957</th><td>0</td><td>0</td><td>0</td><td>0</td><td>0</td></tr>\n",
       "\t<tr><th scope=row>ROS11430815</th><td>0</td><td>1</td><td>0</td><td>0</td><td>0</td></tr>\n",
       "\t<tr><th scope=row>ROS15738428</th><td>0</td><td>0</td><td>0</td><td>0</td><td>0</td></tr>\n",
       "</tbody>\n",
       "</table>\n"
      ],
      "text/latex": [
       "A matrix: 5 × 5 of type dbl\n",
       "\\begin{tabular}{r|lllll}\n",
       "  & chr1:207429238\\_G\\_A & chr1:207429252\\_G\\_A & chr1:207429388\\_T\\_TAAAAA & chr1:207429388\\_T\\_TAAAAAA & chr1:207429391\\_AAAAG\\_A\\\\\n",
       "\\hline\n",
       "\tMAP26637867 & 0 & 0 & 0 & 0 & 0\\\\\n",
       "\tMAP50106992 & 0 & 0 & 0 & 0 & 0\\\\\n",
       "\tMAP61344957 & 0 & 0 & 0 & 0 & 0\\\\\n",
       "\tROS11430815 & 0 & 1 & 0 & 0 & 0\\\\\n",
       "\tROS15738428 & 0 & 0 & 0 & 0 & 0\\\\\n",
       "\\end{tabular}\n"
      ],
      "text/markdown": [
       "\n",
       "A matrix: 5 × 5 of type dbl\n",
       "\n",
       "| <!--/--> | chr1:207429238_G_A | chr1:207429252_G_A | chr1:207429388_T_TAAAAA | chr1:207429388_T_TAAAAAA | chr1:207429391_AAAAG_A |\n",
       "|---|---|---|---|---|---|\n",
       "| MAP26637867 | 0 | 0 | 0 | 0 | 0 |\n",
       "| MAP50106992 | 0 | 0 | 0 | 0 | 0 |\n",
       "| MAP61344957 | 0 | 0 | 0 | 0 | 0 |\n",
       "| ROS11430815 | 0 | 1 | 0 | 0 | 0 |\n",
       "| ROS15738428 | 0 | 0 | 0 | 0 | 0 |\n",
       "\n"
      ],
      "text/plain": [
       "            chr1:207429238_G_A chr1:207429252_G_A chr1:207429388_T_TAAAAA\n",
       "MAP26637867 0                  0                  0                      \n",
       "MAP50106992 0                  0                  0                      \n",
       "MAP61344957 0                  0                  0                      \n",
       "ROS11430815 0                  1                  0                      \n",
       "ROS15738428 0                  0                  0                      \n",
       "            chr1:207429388_T_TAAAAAA chr1:207429391_AAAAG_A\n",
       "MAP26637867 0                        0                     \n",
       "MAP50106992 0                        0                     \n",
       "MAP61344957 0                        0                     \n",
       "ROS11430815 0                        0                     \n",
       "ROS15738428 0                        0                     "
      ]
     },
     "metadata": {},
     "output_type": "display_data"
    }
   ],
   "source": [
    "## Example of one data in one region\n",
    "### Genotype Data\n",
    "# For each gene, there is a single genotype file, which contains the union of samples across all phenotype data\n",
    "# for the six cell types.\n",
    "# col: variants within the region\n",
    "# row: samples\n",
    "geno_ENSG00000117322 = data$chr1_207429229_207479229_ENSG00000117322$geno\n",
    "dim(geno_ENSG00000117322)\n",
    "geno_ENSG00000117322[1:5,1:5]"
   ]
  },
  {
   "cell_type": "code",
   "execution_count": 14,
   "metadata": {
    "vscode": {
     "languageId": "r"
    }
   },
   "outputs": [
    {
     "data": {
      "text/html": [
       "<style>\n",
       ".list-inline {list-style: none; margin:0; padding: 0}\n",
       ".list-inline>li {display: inline-block}\n",
       ".list-inline>li:not(:last-child)::after {content: \"\\00b7\"; padding: 0 .5ex}\n",
       "</style>\n",
       "<ol class=list-inline><li>235</li><li>1</li></ol>\n"
      ],
      "text/latex": [
       "\\begin{enumerate*}\n",
       "\\item 235\n",
       "\\item 1\n",
       "\\end{enumerate*}\n"
      ],
      "text/markdown": [
       "1. 235\n",
       "2. 1\n",
       "\n",
       "\n"
      ],
      "text/plain": [
       "[1] 235   1"
      ]
     },
     "metadata": {},
     "output_type": "display_data"
    },
    {
     "data": {
      "text/html": [
       "<table class=\"dataframe\">\n",
       "<caption>A matrix: 6 × 1 of type dbl</caption>\n",
       "<thead>\n",
       "\t<tr><th></th><th scope=col>chr1_207429229_207479229_ENSG00000117322</th></tr>\n",
       "</thead>\n",
       "<tbody>\n",
       "\t<tr><th scope=row>MAP26637867</th><td>89170</td></tr>\n",
       "\t<tr><th scope=row>MAP50106992</th><td> 7878</td></tr>\n",
       "\t<tr><th scope=row>MAP61344957</th><td>38756</td></tr>\n",
       "\t<tr><th scope=row>ROS11430815</th><td>22002</td></tr>\n",
       "\t<tr><th scope=row>ROS15738428</th><td>31294</td></tr>\n",
       "\t<tr><th scope=row>ROS20945666</th><td>35066</td></tr>\n",
       "</tbody>\n",
       "</table>\n"
      ],
      "text/latex": [
       "A matrix: 6 × 1 of type dbl\n",
       "\\begin{tabular}{r|l}\n",
       "  & chr1\\_207429229\\_207479229\\_ENSG00000117322\\\\\n",
       "\\hline\n",
       "\tMAP26637867 & 89170\\\\\n",
       "\tMAP50106992 &  7878\\\\\n",
       "\tMAP61344957 & 38756\\\\\n",
       "\tROS11430815 & 22002\\\\\n",
       "\tROS15738428 & 31294\\\\\n",
       "\tROS20945666 & 35066\\\\\n",
       "\\end{tabular}\n"
      ],
      "text/markdown": [
       "\n",
       "A matrix: 6 × 1 of type dbl\n",
       "\n",
       "| <!--/--> | chr1_207429229_207479229_ENSG00000117322 |\n",
       "|---|---|\n",
       "| MAP26637867 | 89170 |\n",
       "| MAP50106992 |  7878 |\n",
       "| MAP61344957 | 38756 |\n",
       "| ROS11430815 | 22002 |\n",
       "| ROS15738428 | 31294 |\n",
       "| ROS20945666 | 35066 |\n",
       "\n"
      ],
      "text/plain": [
       "            chr1_207429229_207479229_ENSG00000117322\n",
       "MAP26637867 89170                                   \n",
       "MAP50106992  7878                                   \n",
       "MAP61344957 38756                                   \n",
       "ROS11430815 22002                                   \n",
       "ROS15738428 31294                                   \n",
       "ROS20945666 35066                                   "
      ]
     },
     "metadata": {},
     "output_type": "display_data"
    }
   ],
   "source": [
    "# phenotype data: Mic as an example\n",
    "# col: region: chrom_WindowStart(gene pos -25kb)_WindowEnd(gene pos +25kb)_geneid, e.g. chr1_207429229_207479229_ENSG00000117322\n",
    "# row: samples\n",
    "Mic_pheno_ENSG00000117322 = data$chr1_207429229_207479229_ENSG00000117322$Mic_pheno \n",
    "dim(Mic_pheno_ENSG00000117322)\n",
    "head(Mic_pheno_ENSG00000117322)\n"
   ]
  },
  {
   "cell_type": "code",
   "execution_count": 13,
   "metadata": {
    "vscode": {
     "languageId": "r"
    }
   },
   "outputs": [
    {
     "data": {
      "text/html": [
       "<style>\n",
       ".list-inline {list-style: none; margin:0; padding: 0}\n",
       ".list-inline>li {display: inline-block}\n",
       ".list-inline>li:not(:last-child)::after {content: \"\\00b7\"; padding: 0 .5ex}\n",
       "</style>\n",
       "<ol class=list-inline><li>235</li><li>6</li></ol>\n"
      ],
      "text/latex": [
       "\\begin{enumerate*}\n",
       "\\item 235\n",
       "\\item 6\n",
       "\\end{enumerate*}\n"
      ],
      "text/markdown": [
       "1. 235\n",
       "2. 6\n",
       "\n",
       "\n"
      ],
      "text/plain": [
       "[1] 235   6"
      ]
     },
     "metadata": {},
     "output_type": "display_data"
    },
    {
     "data": {
      "text/html": [
       "<table class=\"dataframe\">\n",
       "<caption>A matrix: 6 × 6 of type dbl</caption>\n",
       "<tbody>\n",
       "\t<tr><th scope=row>SM-CJFK8</th><td>0</td><td>100.87337</td><td>7.500000</td><td> -11.17168</td><td>-1.2649857</td><td>  3.5286763</td></tr>\n",
       "\t<tr><th scope=row>SM-CTDUU</th><td>0</td><td> 80.65708</td><td>5.500000</td><td>  29.20719</td><td>-4.9717704</td><td> 14.8556240</td></tr>\n",
       "\t<tr><th scope=row>SM-CJFLR</th><td>0</td><td> 94.31348</td><td>5.000000</td><td> 102.58089</td><td>-3.0855194</td><td>  0.8494127</td></tr>\n",
       "\t<tr><th scope=row>SM-CJFM3</th><td>1</td><td> 93.69199</td><td>7.250000</td><td>-187.80179</td><td>13.5051352</td><td>-18.5531397</td></tr>\n",
       "\t<tr><th scope=row>SM-CTEET</th><td>1</td><td> 87.92882</td><td>4.333333</td><td> -80.34725</td><td>13.8377383</td><td> -0.1811171</td></tr>\n",
       "\t<tr><th scope=row>SM-CJGHP</th><td>1</td><td> 90.52156</td><td>9.083333</td><td> 218.66243</td><td> 0.1136099</td><td> -4.0522568</td></tr>\n",
       "</tbody>\n",
       "</table>\n"
      ],
      "text/latex": [
       "A matrix: 6 × 6 of type dbl\n",
       "\\begin{tabular}{r|llllll}\n",
       "\tSM-CJFK8 & 0 & 100.87337 & 7.500000 &  -11.17168 & -1.2649857 &   3.5286763\\\\\n",
       "\tSM-CTDUU & 0 &  80.65708 & 5.500000 &   29.20719 & -4.9717704 &  14.8556240\\\\\n",
       "\tSM-CJFLR & 0 &  94.31348 & 5.000000 &  102.58089 & -3.0855194 &   0.8494127\\\\\n",
       "\tSM-CJFM3 & 1 &  93.69199 & 7.250000 & -187.80179 & 13.5051352 & -18.5531397\\\\\n",
       "\tSM-CTEET & 1 &  87.92882 & 4.333333 &  -80.34725 & 13.8377383 &  -0.1811171\\\\\n",
       "\tSM-CJGHP & 1 &  90.52156 & 9.083333 &  218.66243 &  0.1136099 &  -4.0522568\\\\\n",
       "\\end{tabular}\n"
      ],
      "text/markdown": [
       "\n",
       "A matrix: 6 × 6 of type dbl\n",
       "\n",
       "| SM-CJFK8 | 0 | 100.87337 | 7.500000 |  -11.17168 | -1.2649857 |   3.5286763 |\n",
       "| SM-CTDUU | 0 |  80.65708 | 5.500000 |   29.20719 | -4.9717704 |  14.8556240 |\n",
       "| SM-CJFLR | 0 |  94.31348 | 5.000000 |  102.58089 | -3.0855194 |   0.8494127 |\n",
       "| SM-CJFM3 | 1 |  93.69199 | 7.250000 | -187.80179 | 13.5051352 | -18.5531397 |\n",
       "| SM-CTEET | 1 |  87.92882 | 4.333333 |  -80.34725 | 13.8377383 |  -0.1811171 |\n",
       "| SM-CJGHP | 1 |  90.52156 | 9.083333 |  218.66243 |  0.1136099 |  -4.0522568 |\n",
       "\n"
      ],
      "text/plain": [
       "         [,1] [,2]      [,3]     [,4]       [,5]       [,6]       \n",
       "SM-CJFK8 0    100.87337 7.500000  -11.17168 -1.2649857   3.5286763\n",
       "SM-CTDUU 0     80.65708 5.500000   29.20719 -4.9717704  14.8556240\n",
       "SM-CJFLR 0     94.31348 5.000000  102.58089 -3.0855194   0.8494127\n",
       "SM-CJFM3 1     93.69199 7.250000 -187.80179 13.5051352 -18.5531397\n",
       "SM-CTEET 1     87.92882 4.333333  -80.34725 13.8377383  -0.1811171\n",
       "SM-CJGHP 1     90.52156 9.083333  218.66243  0.1136099  -4.0522568"
      ]
     },
     "metadata": {},
     "output_type": "display_data"
    }
   ],
   "source": [
    "# covariates data: Mic as an example\n",
    "# col: covariates(first 3 cols: msex, age_at_death, pmi; also with hidden factors from phenotype Mic)\n",
    "# Note: it doen't contain colnames, but it will not use the col info, just used for regressing out cov from pheno.\n",
    "# row: samples\n",
    "Mic_cov_ENSG00000117322 = data$chr1_207429229_207479229_ENSG00000117322$Mic_cov\n",
    "dim(Mic_cov_ENSG00000117322)\n",
    "head(Mic_cov_ENSG00000117322)"
   ]
  },
  {
   "cell_type": "markdown",
   "metadata": {},
   "source": [
    "### BedGraph Data Format and Explanation\n",
    "- The `BedGraph` format is more memory-efficient. Unlike `base-level` data, which stores coverage at every base, BedGraph condenses `consecutive` positions with the `same` coverage value into a single `interval`, reducing redundancy. \n",
    "- This dramatically reduces memory usage, making it a better format for storing and processing large genomic datasets at scale. This format is particularly helpful during `QC`, and we can convert the interval data into base-level data for final analysis if needed.\n",
    "\n",
    "\n",
    "#### Bedgraph for one sample of Mic\n",
    "- tool: `bedtools genomecov -bg`\n",
    "```bash\n",
    "head /home/al4225/project/multiome/step5_bedgraph_coverage/Microglia/MAP26637867.bedgraph\n",
    "chrom   start   end MAP26637867(coverage)\n",
    "chr1    10156   10157   1\n",
    "chr1    10157   10169   2\n",
    "chr1    10169   10186   3\n",
    "chr1    10186   10209   2\n",
    "chr1    10209   10210   1\n",
    "chr1    10267   10279   1\n",
    "chr1    10309   10436   2\n",
    "chr1    17339   17494   2\n",
    "chr1    87248   87394   1\n",
    "chr1    91121   91362   2\n",
    "```\n",
    "\n",
    "#### Bedgraph after merging all samples of Mic, and get PICALM region\n",
    "- tool: `bedtools unionbedg`  \n",
    "- After generating the BedGraph files for all samples, I used bedtools unionbedg to merge them. The resulting file contains chromosome, start, end, and the coverage values for multiple samples. Each row represents an interval where the coverage values are the same across samples. Also memory savings, but still maintaining detailed coverage data.\n",
    "\n",
    "- PICALM Region window:\n",
    "    - Original PICALM region expanded by 1MB on both sides:\n",
    "    - Start: chr11 84,668,727 (original: 85,668,727)\n",
    "    - End: chr11 86,780,924 (original: 85,780,924)\n",
    "    \n",
    "```bash\n",
    "zcat /home/al4225/project/multiome/step5_bedgraph_coverage/PICALM/PICALM_Microglia.bedgraph.gz |\n",
    "head | cut -f 1-6\n",
    "chrom   start             end    MAP26637867         MAP50106992      MAP61344957\n",
    "chr11   84668727        84668728        1               0               1\n",
    "chr11   84668728        84668729        1               0               1\n",
    "chr11   84668729        84668735        1               0               1\n",
    "chr11   84668735        84668736        1               0               1\n",
    "chr11   84668736        84668741        1               0               1\n",
    "chr11   84668741        84668747        1               0               1\n",
    "chr11   84668747        84668750        1               0               1\n",
    "chr11   84668750        84668751        1               0               1\n",
    "chr11   84668751        84668752        1               0               1\n",
    "```\n",
    "\n",
    "- `chrom`: Chromosome name (e.g., chr11 represents chromosome 11).\n",
    "- `start`: Start position, 0-based. It indicates the first base position in the interval.\n",
    "- `end`: End position, not inclusive (half-open interval).\n",
    "- `Sample columns` (e.g., MAP26637867, MAP50106992, MAP61344957): These columns represent the coverage value for  each specific sample. The numbers indicate the signal strength or the number of fragments covering that region.   \n",
    "\n",
    "For example, chr11 84668727 84668728 1 0 1 means that, for the region on chromosome 11 from 84668727 to 84668728, the samples MAP26637867 and MAP61344957 have a coverage of 1, while MAP50106992 has a coverage of 0.\n",
    "\n",
    "### PICALM genotype data\n",
    "- ROSMAP PLINK Genotype Data:\n",
    "    - Subsetted data covering 1153 samples (rows) and 74,512 SNPs (columns) in the region.\n",
    "    - Need to map samples to each phenotype data.\n",
    "```bash\n",
    "zcat /home/al4225/project/multiome/step5_bedgraph_coverage/PICALM_genotype/genotype/snuc_pseudo_bulk_mega.ENSG00000073921.PICALM_ROSMAP_NIA_WGS.leftnorm.bcftools_qc.plink_qc.11.tsv.gz | head -n 5| cut -f 1-4\n",
    "chr11:84668727_C_T      chr11:84668730_T_C      chr11:84668839_C_T      chr11:84668840_G_A\n",
    "MAP15387421     0       0       0\n",
    "MAP26637867     0       0       0\n",
    "MAP29629849     0       0       0\n",
    "MAP33332646     0       0       0\n",
    "```"
   ]
  }
 ],
 "metadata": {
  "kernelspec": {
   "display_name": "R",
   "language": "R",
   "name": "ir"
  },
  "language_info": {
   "codemirror_mode": "r",
   "file_extension": ".r",
   "mimetype": "text/x-r-source",
   "name": "R",
   "pygments_lexer": "r",
   "version": "4.2.2"
  }
 },
 "nbformat": 4,
 "nbformat_minor": 2
}
